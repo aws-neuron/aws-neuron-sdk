{
 "cells": [
  {
   "cell_type": "markdown",
   "id": "changing-baking",
   "metadata": {},
   "source": [
    "# Compiling and Deploying Pretrained HuggingFace Pipelines distilBERT with Tensorflow2 Neuron"
   ]
  },
  {
   "cell_type": "markdown",
   "id": "cooperative-renewal",
   "metadata": {},
   "source": [
    "### Introduction"
   ]
  },
  {
   "cell_type": "markdown",
   "id": "absolute-amateur",
   "metadata": {},
   "source": [
    "In this tutorial we will compile and deploy distilBERT version of HuggingFace 🤗 Transformers BERT for Inferentia. The full list of HuggingFace's pretrained BERT models can be found in the BERT section on this page https://huggingface.co/transformers/pretrained_models.html. You can also read about HuggingFace's pipeline feature here: https://huggingface.co/transformers/main_classes/pipelines.html\n",
    "\n",
    "This Jupyter notebook should be run on an instance which is inf1.6xlarge or larger, but in real life scenario the compilation should be done on a compute instance and the deployment on inf1 instance to save costs."
   ]
  },
  {
   "cell_type": "markdown",
   "id": "sought-tourist",
   "metadata": {},
   "source": [
    "### Setting up your environment:"
   ]
  },
  {
   "cell_type": "markdown",
   "id": "fiscal-tyler",
   "metadata": {},
   "source": [
    "To run this tutorial, please make sure you deactivate any existing TensorFlow conda environments you already using. Install TensorFlow 2.x by following the instructions at [TensorFlow Tutorial Setup Guide](https://awsdocs-neuron.readthedocs-hosted.com/en/latest/neuron-guide/neuron-frameworks/tensorflow-neuron/tutorials/tensorflow-tutorial-setup.html#tensorflow-tutorial-setup).\n",
    "\n",
    "After following the Setup Guide, you need to change your kernel to ```Python (Neuron TensorFlow 2)``` by clicking Kerenel->Change Kernel->```Python (Neuron TensorFlow 2)```"
   ]
  },
  {
   "cell_type": "markdown",
   "id": "horizontal-finnish",
   "metadata": {},
   "source": [
    "Now we can install TensorFlow Neuron 2.x, HuggingFace transformers, and HuggingFace datasets dependencies here."
   ]
  },
  {
   "cell_type": "code",
   "execution_count": null,
   "id": "electronic-probe",
   "metadata": {},
   "outputs": [],
   "source": [
    "!pip install --upgrade \"transformers==4.1.0\"\n",
    "!pip install --upgrade \"datasets==1.4.1\"\n",
    "!pip install ipywidgets"
   ]
  },
  {
   "cell_type": "code",
   "execution_count": null,
   "id": "adjacent-avatar",
   "metadata": {},
   "outputs": [],
   "source": [
    "from transformers import pipeline\n",
    "import tensorflow as tf\n",
    "import tensorflow.neuron as tfn"
   ]
  },
  {
   "cell_type": "markdown",
   "id": "british-forwarding",
   "metadata": {},
   "source": [
    "### Compile the model into an AWS Neuron Optimized Model"
   ]
  },
  {
   "cell_type": "code",
   "execution_count": null,
   "id": "great-citation",
   "metadata": {},
   "outputs": [],
   "source": [
    "#Create the huggingface pipeline for sentiment analysis\n",
    "#this model tries to determine of the input text has a positive\n",
    "#or a negative sentiment.\n",
    "model_name = 'distilbert-base-uncased-finetuned-sst-2-english'\n",
    "\n",
    "pipe = pipeline('sentiment-analysis', model=model_name, framework='tf')\n",
    "\n",
    "#pipelines are extremely easy to use as they do all the tokenization,\n",
    "#inference and output interpretation for you.\n",
    "pipe('I love pipelines, they are very easy to use!')\n"
   ]
  },
  {
   "cell_type": "markdown",
   "id": "related-component",
   "metadata": {},
   "source": [
    "As we've seen above, Huggingface's pipline feature is a great wrapper for running inference on their models. It takes care of the tokenization of the string inputs. Then feeds that tokenized input to the model. Finally it interprets the outputs of the model and formats them in a way that is very human readable. Our goal will be to compile the underlying model inside the pipeline as well as make some edits to the tokenizer. The reason we need to edit the tokenizer is to make sure that we have a standard sequence length (in this case 128) as neuron only accepts static input shapes.\n"
   ]
  },
  {
   "cell_type": "code",
   "execution_count": null,
   "id": "ideal-broadway",
   "metadata": {},
   "outputs": [],
   "source": [
    "neuron_pipe = pipeline('sentiment-analysis', model=model_name, framework='tf')\n",
    "\n",
    "#the first step is to modify the underlying tokenizer to create a static \n",
    "#input shape as inferentia does not work with dynamic input shapes\n",
    "original_tokenizer = pipe.tokenizer\n",
    "\n",
    "\n",
    "#we intercept the function call to the original tokenizer\n",
    "#and inject our own code to modify the arguments\n",
    "def wrapper_function(*args, **kwargs):\n",
    "    kwargs['padding'] = 'max_length'\n",
    "    #this is the key line here to set a static input shape\n",
    "    #so that all inputs are set to a len of 128\n",
    "    kwargs['max_length'] = 128 \n",
    "    kwargs['truncation'] = True\n",
    "    kwargs['return_tensors'] = 'tf'\n",
    "    return original_tokenizer(*args, **kwargs)\n",
    "\n",
    "#insert our wrapper function as the new tokenizer as well \n",
    "#as reinserting back some attribute information that was lost\n",
    "#when we replaced the original tokenizer with our wrapper function\n",
    "neuron_pipe.tokenizer = wrapper_function\n",
    "neuron_pipe.tokenizer.decode = original_tokenizer.decode\n",
    "neuron_pipe.tokenizer.mask_token_id = original_tokenizer.mask_token_id\n",
    "neuron_pipe.tokenizer.pad_token_id = original_tokenizer.pad_token_id\n",
    "neuron_pipe.tokenizer.convert_ids_to_tokens = original_tokenizer.convert_ids_to_tokens\n",
    "\n",
    "\n",
    "#Now that our neuron_classifier is ready we can use it to\n",
    "#generate an example input which is needed to compile the model\n",
    "#note that pipe.model is the actual underlying model itself which \n",
    "#is what Tensorflow Neuron actually compiles.\n",
    "example_inputs = neuron_pipe.tokenizer('we can use any string here to generate example inputs')\n",
    "#compile the model by calling tfn.trace by passing in the underlying model\n",
    "#and the example inputs generated by our updated tokenizer\n",
    "neuron_model = tfn.trace(pipe.model, example_inputs)\n",
    "\n",
    "#comparing a pipeline call to directly calling the underlying model\n",
    "print(\"Pipeline call:\", neuron_pipe('we can use any string here to generate example inputs'))\n",
    "print(\"Direct call:\", neuron_pipe.model(example_inputs))"
   ]
  },
  {
   "cell_type": "markdown",
   "id": "crazy-zoning",
   "metadata": {},
   "source": [
    "### Deploy the model"
   ]
  },
  {
   "cell_type": "markdown",
   "id": "moral-coalition",
   "metadata": {},
   "source": [
    "The great thing about using HuggingFace's pipeline feature is that once your model is compiled, running inference on it is extremely easy!"
   ]
  },
  {
   "cell_type": "code",
   "execution_count": null,
   "id": "expired-extreme",
   "metadata": {},
   "outputs": [],
   "source": [
    "#now we can insert the neuron_model and replace the cpu model\n",
    "#so now we have a huggingface pipeline that uses and underlying neuron model!\n",
    "neuron_pipe.model = neuron_model\n",
    "neuron_pipe.model.config = pipe.model.config\n",
    "\n",
    "#Now let's run inference on neuron!\n",
    "neuron_pipe('I want this sentence to be negative to show a negative sentiment analysis.')"
   ]
  },
  {
   "cell_type": "markdown",
   "id": "specialized-receptor",
   "metadata": {},
   "source": [
    "### Using a larger batch size to increase throughput"
   ]
  },
  {
   "cell_type": "markdown",
   "id": "destroyed-collapse",
   "metadata": {},
   "source": [
    "In the cell below, we use a large batch size for inference. By using a larger batch size, we are able increase our neuroncore usage which increases our throughput.\n",
    "\n",
    "The only thing we need to do is recompile our model with following the steps we did above, except this time our example inputs for tfn.trace will be batch 128. For this test, we will use Huggingface's dataset module to query our model."
   ]
  },
  {
   "cell_type": "markdown",
   "id": "worldwide-flower",
   "metadata": {},
   "source": [
    "First we need to generate some batch 128 example inputs to compile our batch 128 model."
   ]
  },
  {
   "cell_type": "code",
   "execution_count": null,
   "id": "deadly-friend",
   "metadata": {},
   "outputs": [],
   "source": [
    "from datasets import load_dataset\n",
    "dataset = load_dataset('amazon_polarity')\n",
    "\n",
    "string_inputs = dataset['test'][:128]['content']\n",
    "string_inputs[0]"
   ]
  },
  {
   "cell_type": "markdown",
   "id": "ultimate-tutorial",
   "metadata": {},
   "source": [
    "Next, we recompile the model similar to what we did above, except this time we use a batch 128 example inputs."
   ]
  },
  {
   "cell_type": "code",
   "execution_count": null,
   "id": "referenced-reward",
   "metadata": {},
   "outputs": [],
   "source": [
    "neuron_pipe_b128 = pipeline('sentiment-analysis', model=model_name, framework='tf')\n",
    "\n",
    "neuron_pipe_b128.tokenizer = wrapper_function\n",
    "neuron_pipe_b128.tokenizer.decode = original_tokenizer.decode\n",
    "neuron_pipe_b128.tokenizer.mask_token_id = original_tokenizer.mask_token_id\n",
    "neuron_pipe_b128.tokenizer.pad_token_id = original_tokenizer.pad_token_id\n",
    "neuron_pipe_b128.tokenizer.convert_ids_to_tokens = original_tokenizer.convert_ids_to_tokens\n",
    "    \n",
    "example_inputs = neuron_pipe.tokenizer(string_inputs)\n",
    "neuron_model_b128 = tfn.trace(pipe.model, example_inputs)\n",
    "\n",
    "neuron_pipe_b128.model = neuron_model_b128\n",
    "neuron_pipe_b128.model.config = pipe.model.config"
   ]
  },
  {
   "cell_type": "markdown",
   "id": "welcome-supervision",
   "metadata": {},
   "source": [
    "Now we can do some simple benchmarking of the neuron models and cpu model. We use a warmup inference before benchmarking the neuron model because the first inference call also loads the model onto inferentia. Every inference after that just queries the already loaded model, which is much faster."
   ]
  },
  {
   "cell_type": "code",
   "execution_count": null,
   "id": "amino-listening",
   "metadata": {},
   "outputs": [],
   "source": [
    "import time\n",
    "\n",
    "#warmup inf\n",
    "neuron_pipe('warmup inference')\n",
    "#benchmark batch 1 neuron model\n",
    "start = time.time()\n",
    "for string in string_inputs:\n",
    "    outputs = neuron_pipe(string)\n",
    "end = time.time()\n",
    "\n",
    "print(f\"Throughput for batch 1 neuron model is {128/(end - start)}.\")\n",
    "\n",
    "\n",
    "#warmup inf\n",
    "neuron_pipe_b128(string_inputs)\n",
    "#benchmark batch 128 neuron model\n",
    "start = time.time()\n",
    "outputs = neuron_pipe_b128(string_inputs)\n",
    "end = time.time()\n",
    "\n",
    "print(f\"Throughput for batch 128 neuron model is {128/(end - start)}.\")\n",
    "\n",
    "\n",
    "#benchmark batch 1 CPU model\n",
    "start = time.time()\n",
    "for string in string_inputs:\n",
    "    outputs = pipe(string)\n",
    "end = time.time()\n",
    "\n",
    "print(f\"Throughput for batch 1 cpu model is {128/(end - start)}.\")\n",
    "\n",
    "\n",
    "#benchmark batch 128 CPU model\n",
    "start = time.time()\n",
    "outputs = pipe(string_inputs)\n",
    "end = time.time()\n",
    "\n",
    "print(f\"Throughput for batch 128 cpu model is {128/(end - start)}.\")"
   ]
  }
 ],
 "metadata": {
  "kernelspec": {
   "display_name": "Python (Neuron TensorFlow 2)",
   "language": "python",
   "name": "neuron_tf2"
  },
  "language_info": {
   "codemirror_mode": {
    "name": "ipython",
    "version": 3
   },
   "file_extension": ".py",
   "mimetype": "text/x-python",
   "name": "python",
   "nbconvert_exporter": "python",
   "pygments_lexer": "ipython3",
   "version": "3.6.9"
  }
 },
 "nbformat": 4,
 "nbformat_minor": 5
}

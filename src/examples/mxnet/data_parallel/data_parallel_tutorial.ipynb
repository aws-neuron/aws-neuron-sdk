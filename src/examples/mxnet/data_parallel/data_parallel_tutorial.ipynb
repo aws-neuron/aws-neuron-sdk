{
 "cells": [
  {
   "cell_type": "markdown",
   "metadata": {},
   "source": [
    "# Using Data Parallel Mode with Gluon MXNet\n",
    "\n",
    "In this tutorial, you will compile a Gluon BERT model and run in data-parallel mode to completely utilize the NeuronCores. Here you will benchmark a multi-worker setup and compare it with a single worker.\n",
    "\n",
    "This tutorial is intended only for MXNet-1.8.\n",
    "\n",
    "In this tutorial, we will be using an inf1.2xlarge with the latest AWS Deep Learning AMI (DLAMI). The inf1.2xlarge instance has 1 AWS Inferentia Chip with 4 NeuronCores.\n"
   ]
  },
  {
   "cell_type": "markdown",
   "metadata": {},
   "source": [
    "### Setting up your environment\n",
    "\n",
    "To run this tutorial, please make sure you deactivate any existing MXNet conda environments you already using. Install MXNet 1.8 by following the instructions at [MXNet Setup Guide](https://awsdocs-neuron.readthedocs-hosted.com/en/latest/neuron-intro/mxnet-setup/mxnet-install.html#develop-on-aws-ml-accelerator-instance). You would also need to change your kernel to use the correct Python environment setup earlier by clicking Kerenel->Change Kernel->Python (Neuron MXNet)"
   ]
  },
  {
   "cell_type": "markdown",
   "metadata": {},
   "source": [
    "### Install dependencies\n",
    "\n",
    "We have to install gluon-nlp to get the BERT model. Run the following command to install:"
   ]
  },
  {
   "cell_type": "code",
   "execution_count": null,
   "metadata": {},
   "outputs": [],
   "source": [
    "!python -m pip install gluonnlp"
   ]
  },
  {
   "cell_type": "markdown",
   "metadata": {},
   "source": [
    "### Compiling BERT Model\n",
    "\n",
    "Next, we compile the Gluon BERT model and save it. Once the model is compiled, we use the same model across the entire tutorial.\n",
    "In this tutorial, we will be using a BERT model with sequence length 32"
   ]
  },
  {
   "cell_type": "code",
   "execution_count": null,
   "metadata": {},
   "outputs": [],
   "source": [
    "import os\n",
    "import mxnet as mx\n",
    "import mx_neuron\n",
    "import gluonnlp as nlp"
   ]
  },
  {
   "cell_type": "code",
   "execution_count": null,
   "metadata": {},
   "outputs": [],
   "source": [
    "BERT_MODEL = 'bert_12_768_12'\n",
    "BERT_DATA = 'book_corpus_wiki_en_uncased'\n",
    "batch_size = 1\n",
    "seq_len = 32\n",
    "num_cores = 1\n",
    "dtype = 'float32'\n",
    "\n",
    "compiled_model_path = '{}.compiled.{}.{}'.format(BERT_MODEL, batch_size, seq_len)\n",
    "\n",
    "model, vocab = nlp.model.get_model(BERT_MODEL,\n",
    "                                   dataset_name=BERT_DATA,\n",
    "                                   use_classifier=False,\n",
    "                                   use_decoder=False, ctx=mx.cpu())\n",
    "  \n",
    "# Create sample inputs for compilation\n",
    "words = mx.nd.ones([batch_size, seq_len], name='words', dtype=dtype)\n",
    "valid_len = mx.nd.ones([batch_size,], name='valid_len', dtype=dtype)\n",
    "segments = mx.nd.ones([batch_size, seq_len], name='segments', dtype=dtype)\n",
    "inputs = {'data0': words, 'data1': segments, 'data2': valid_len}\n",
    "\n",
    "# Compiler Args ~~ \n",
    "options = {}\n",
    "embeddingNames = ['bertmodel0_word_embed_embedding0_fwd', 'bertmodel0_token_type_embed_embedding0_fwd', 'bertencoder0_embedding0']\n",
    "options.update({'force_incl_node_names': embeddingNames})\n",
    "options.update({'flags': ['--fp32-cast matmult']}) \n",
    "\n",
    "# Compile and save ~~ \n",
    "model = mx_neuron.compile(model, inputs=inputs, **options)\n",
    "model.export(compiled_model_path)"
   ]
  },
  {
   "cell_type": "markdown",
   "metadata": {},
   "source": [
    "### Data Parallel Mode\n",
    "\n",
    "Data Parallel Mode is a setup in which you launch multiple copies of the same model, such that each model is running independently of the other. In other words, each model has its own resources to run inference. \n",
    "\n",
    "On an inf1.2xlarge instance, we have 4 NeuronCores. Hence, we can launch 4 models such that each model is loaded on a single NeuronCore. This unables us to process 4 request concurrently without linear increase in latency. As a result, the throughput of the system increases when compared to a single model inference. This would also allow us to utilize all the 4 NeuronCores on the instance.\n",
    "\n",
    "Run through the next set of cells to see the difference in throughput as we scale from one model to 4 models running in parallel."
   ]
  },
  {
   "cell_type": "code",
   "execution_count": null,
   "metadata": {},
   "outputs": [],
   "source": [
    "import numpy as np\n",
    "\n",
    "def get_sample_inputs(batch_size, seq_len):\n",
    "    words = np.ones([batch_size, seq_len], dtype=np.float32)\n",
    "    valid_len = np.ones([batch_size,], dtype=np.float32)\n",
    "    segments = np.ones([batch_size, seq_len], dtype=np.float32)\n",
    "    inputs = {'data0': words, 'data1': segments, 'data2': valid_len}\n",
    "    return inputs"
   ]
  },
  {
   "cell_type": "markdown",
   "metadata": {},
   "source": [
    "Next for comparison purposes, we run the setup with 1 worker. To do this, we set the num_cores=1. This would launch only 1 model running on a single NeuronCore. After running the below cell, note down the latency and throughput for the system"
   ]
  },
  {
   "cell_type": "code",
   "execution_count": null,
   "metadata": {},
   "outputs": [],
   "source": [
    "from parallel import NeuronSimpleDataParallel\n",
    "from benchmark_utils import Results\n",
    "import time\n",
    "import functools\n",
    "import os\n",
    "import numpy as np\n",
    "import warnings\n",
    "\n",
    "num_cores = 1\n",
    "batch_size=1\n",
    "\n",
    "# Each worker process should use one core, hence we set\n",
    "#    os.environ['NEURON_RT_NUM_CORES'] = \"1\"\n",
    "os.environ[\"NEURON_RT_NUM_CORES\"] = \"1\"\n",
    "\n",
    "#Result aggregation class (code in bert_benchmark_utils.py)\n",
    "results = Results(batch_size, num_cores)\n",
    "def result_handler(output, start, end):\n",
    "    elapsed = end - start\n",
    "    results.add_result([elapsed], [end], [start])\n",
    "\n",
    "inputs = get_sample_inputs(batch_size, seq_len)\n",
    "parallel_neuron_model = NeuronSimpleDataParallel(compiled_model_path, num_cores, inputs)\n",
    "\n",
    "#Starting the inference threads\n",
    "parallel_neuron_model.start_continuous_inference()\n",
    "\n",
    "# Warm up the cores\n",
    "for _ in range(num_cores*4):\n",
    "    parallel_neuron_model.warmup(inputs)\n",
    "    \n",
    "# Need to run for high number of iterations to benchmark the models\n",
    "for _ in range(1000):\n",
    "    parallel_neuron_model.infer(inputs)\n",
    "    # Passing the result_handler as a callback function\n",
    "    parallel_neuron_model.add_result(result_handler)\n",
    "\n",
    "# Stop inference                \n",
    "parallel_neuron_model.stop()\n",
    "# Since we are using a multi-process execution with a shared queue, some inferences\n",
    "# may still be in execution phase. Hence we need to wait till all the inputs are processed\n",
    "# add_all_results() will collect all the results of requests which are in this state\n",
    "parallel_neuron_model.add_all_results(result_handler)\n",
    "\n",
    "\n",
    "with open(\"benchmark.txt\", \"w\") as f:\n",
    "    results.report(f, window_size=1)\n",
    "\n",
    "with open(\"benchmark.txt\", \"r\") as f:\n",
    "    for line in f:\n",
    "        print(line)"
   ]
  },
  {
   "cell_type": "markdown",
   "metadata": {},
   "source": [
    "Now we run the setup with 4 workers. To do this, we set the num_cores=4. This would launch 4 model running each running on individual NeuronCore. All the 4 models are running in individual processes, in other words the models are running in parallel. \n",
    "\n",
    "To feed the models efficiently, we use the producer-consumer setup, in which all processes running a model act as consumers. All consumers are fed using a sharing input queue.\n",
    "\n",
    "Now we run the below setup. You may notice, that the throughput increase by >2x when compared to a single worker setup."
   ]
  },
  {
   "cell_type": "code",
   "execution_count": null,
   "metadata": {},
   "outputs": [],
   "source": [
    "from parallel import NeuronSimpleDataParallel\n",
    "from benchmark_utils import Results\n",
    "import time\n",
    "import functools\n",
    "import os\n",
    "import numpy as np\n",
    "\n",
    "num_cores = 4\n",
    "batch_size=1\n",
    "\n",
    "os.environ[\"NEURON_RT_NUM_CORES\"] = \"1\"\n",
    "\n",
    "#Result aggregation class (code in bert_benchmark_utils.py)\n",
    "results = Results(batch_size, num_cores)\n",
    "def result_handler(output, start, end):\n",
    "    elapsed = end - start\n",
    "    results.add_result([elapsed], [end], [start])\n",
    "\n",
    "inputs = get_sample_inputs(batch_size, seq_len)\n",
    "parallel_neuron_model = NeuronSimpleDataParallel(compiled_model_path, num_cores, inputs)\n",
    "\n",
    "#Starting the inference threads\n",
    "parallel_neuron_model.start_continuous_inference()\n",
    "\n",
    "# Warm up the cores\n",
    "for _ in range(num_cores*4):\n",
    "    parallel_neuron_model.warmup(inputs)\n",
    "    \n",
    "# Need to run for high number of iterations to benchmark the models\n",
    "for _ in range(5000):\n",
    "    parallel_neuron_model.infer(inputs)\n",
    "    # Passing the result_handler as a callback function\n",
    "    parallel_neuron_model.add_result(result_handler)\n",
    "\n",
    "# Stop inference                \n",
    "parallel_neuron_model.stop()\n",
    "# Since we are using a multi-process execution with a shared queue, some inferences\n",
    "# may still be in execution phase. Hence we need to wait till all the inputs are processed\n",
    "# add_all_results() will collect all the results of requests which are in this state\n",
    "parallel_neuron_model.add_all_results(result_handler)\n",
    "\n",
    "\n",
    "with open(\"benchmark.txt\", \"w\") as f:\n",
    "    results.report(f, window_size=1)\n",
    "\n",
    "with open(\"benchmark.txt\", \"r\") as f:\n",
    "    for line in f:\n",
    "        print(line)"
   ]
  }
 ],
 "metadata": {
  "kernelspec": {
   "display_name": "Python 3",
   "language": "python",
   "name": "python3"
  },
  "language_info": {
   "codemirror_mode": {
    "name": "ipython",
    "version": 3
   },
   "file_extension": ".py",
   "mimetype": "text/x-python",
   "name": "python",
   "nbconvert_exporter": "python",
   "pygments_lexer": "ipython3",
   "version": "3.6.9"
  }
 },
 "nbformat": 4,
 "nbformat_minor": 4
}

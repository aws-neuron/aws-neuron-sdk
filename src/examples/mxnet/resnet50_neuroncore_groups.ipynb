{
 "cells": [
  {
   "cell_type": "markdown",
   "metadata": {},
   "source": [
    "# Neuron Apache MXNet (Incubating) - Configurations for NeuronCore Groups Using Resnet50\n",
    "\n",
    "\n",
    "\n",
    "## Introduction:\n",
    "\n",
    "In this tutorial we will compile and deploy Resnet-50 model in parallel using the concept of NeuronCore Groups on an Inf1 instance. This Jupyter notebook should be run on an instance which is inf1.6xlarge or larger. For simplicity we will run this tutorial on inf1.6xlarge but in real life scenario the compilation should be done on a compute instance and the deployment on inf1 instance to save costs. \n",
    "\n",
    "To explicitly specify the NeuronCore Groups, set environment variable NEURONCORE_GROUP_SIZES to a list of group sizes. The consecutive NeuronCore groups will be created by Neuron-RTD and be available to map the models to.\n",
    "\n",
    "Note that in order to map a model to a group, the model must be compiled to fit within the group size. To limit the number of NeuronCores during compilation, use compiler_args dictionary with field “–neuroncore-pipeline-cores“ set to the group size:"
   ]
  },
  {
   "cell_type": "markdown",
   "metadata": {},
   "source": [
    "```\n",
    "compile_args = {'--neuroncore-pipeline-cores' : 2}\n",
    "sym, args, auxs = neuron.compile(sym, args, auxs, inputs, **compile_args)\n",
    "```"
   ]
  },
  {
   "cell_type": "markdown",
   "metadata": {},
   "source": [
    "\n",
    "In this tutorial we provide two main sections:\n",
    "\n",
    "1. Compile the Resnet50 model for Neuron\n",
    "\n",
    "2. Run inference using NeuronCore Groups\n",
    "\n",
    "### Warning\n",
    "This tutorial was tested on MXNet-1.5\n",
    "\n",
    "MXNet-1.5 entered maintenance mode and require Neuron runtime 1.0, please see : [MXNet-1.5 enters maintainence mode](../../../../release-notes/maintenance.html)\n",
    "\n",
    "To setup development environment for MXNet-1.5 see installation instructions for Neuron 1.15.1 : [Neuron-1.15.1 MXNet install](../../../../neuron-intro/neuron-install-guide.html#apache-mxnet-setup)"
   ]
  },
  {
   "cell_type": "markdown",
   "metadata": {},
   "source": [
    "## Compile model for Neuron\n",
    "\n",
    "Model must be compiled to Inferentia target before it can be used on Inferentia. In the following we will compile the the flag, --neuroncore-pipeline-cores set to 2 and run it. The files resnet-50_compiled-0000.params and resnet-50_compiled-symbol.json will be created in local directory"
   ]
  },
  {
   "cell_type": "code",
   "execution_count": null,
   "metadata": {},
   "outputs": [],
   "source": [
    "import mxnet as mx\n",
    "import numpy as np\n",
    "\n",
    "path='http://data.mxnet.io/models/imagenet/'\n",
    "mx.test_utils.download(path+'resnet/50-layers/resnet-50-0000.params')\n",
    "mx.test_utils.download(path+'resnet/50-layers/resnet-50-symbol.json')\n",
    "sym, args, aux = mx.model.load_checkpoint('resnet-50', 0)\n",
    "\n",
    "# Compile for Inferentia using Neuron, fit to NeuronCore group size of 2\n",
    "inputs = { \"data\" : mx.nd.ones([1,3,224,224], name='data', dtype='float32') }\n",
    "compile_args = {'--neuroncore-pipeline-cores' : 2}\n",
    "sym, args, aux = mx.contrib.neuron.compile(sym, args, aux, inputs, **compile_args)\n",
    "\n",
    "#save compiled model\n",
    "mx.model.save_checkpoint(\"resnet-50_compiled\", 0, sym, args, aux)"
   ]
  },
  {
   "cell_type": "markdown",
   "metadata": {},
   "source": [
    "## Run inference using NeuronCore Groups\n",
    "\n",
    "During inference, to subdivide the pool of a single Inferentia chip into three groups of 1, 2, and 1 NeuronCores, specify NEURONCORE_GROUP_SIZES as follows:\n",
    "\n",
    "```NEURONCORE_GROUP_SIZES='1,2,1'```\n",
    "    \n",
    "Within the framework, the model can be mapped to group using ```ctx=mx.neuron(N)``` context where N is the group index within the NEURONCORE_GROUP_SIZES list.\n",
    "\n"
   ]
  },
  {
   "cell_type": "code",
   "execution_count": null,
   "metadata": {},
   "outputs": [],
   "source": [
    "import os\n",
    "import warnings\n",
    "\n",
    "mx.test_utils.download(path+'synset.txt')\n",
    "\n",
    "fname = mx.test_utils.download('https://raw.githubusercontent.com/awslabs/mxnet-model-server/master/docs/images/kitten_small.jpg?raw=true')\n",
    "img = mx.image.imread(fname) # convert into format (batch, RGB, width, height)\n",
    "img = mx.image.imresize(img, 224, 224) # resize\n",
    "img = img.transpose((2, 0, 1)) # Channel first\n",
    "img = img.expand_dims(axis=0) # batchify\n",
    "img = img.astype(dtype='float32')\n",
    "\n",
    "sym, args, aux = mx.model.load_checkpoint('resnet-50_compiled', 0)\n",
    "softmax = mx.nd.random_normal(shape=(1,))\n",
    "args['softmax_label'] = softmax\n",
    "args['data'] = img\n",
    "\n",
    "warnings.warn(\"NEURONCORE_GROUP_SIZES is being deprecated, if your application is using NEURONCORE_GROUP_SIZES please \\\n",
    "see https://awsdocs-neuron.readthedocs-hosted.com/en/latest/release-notes/deprecation.html#announcing-end-of-support-for-neuroncore-group-sizes \\\n",
    "for more details.\", DeprecationWarning)\n",
    "os.environ[\"NEURONCORE_GROUP_SIZES\"] = '1,2,1'\n",
    "\n",
    "\n",
    "# Inferentia context - group index 1 (size 2) in NEURONCORE_GROUP_SIZES=1,2,1\n",
    "ctx = mx.neuron(1)\n",
    "\n",
    "exe = sym.bind(ctx=ctx, args=args, aux_states=aux, grad_req='null')\n",
    "\n",
    "with open('synset.txt', 'r') as f:\n",
    "     labels = [l.rstrip() for l in f]\n",
    "\n",
    "exe.forward(data=img)\n",
    "prob = exe.outputs[0].asnumpy()# print the top-5\n",
    "prob = np.squeeze(prob)\n",
    "a = np.argsort(prob)[::-1]\n",
    "for i in a[0:5]:\n",
    "     print('probability=%f, class=%s' %(prob[i], labels[i]))"
   ]
  },
  {
   "cell_type": "markdown",
   "metadata": {},
   "source": [
    "You can experiment with different Neuron core group combinations and different models."
   ]
  },
  {
   "cell_type": "markdown",
   "metadata": {},
   "source": [
    "### Troubleshooting"
   ]
  },
  {
   "cell_type": "markdown",
   "metadata": {},
   "source": [
    "If not enough NeuronCores are provided, an error message will be displayed:\n",
    "\n",
    "```\n",
    "mxnet.base.MXNetError: [04:01:39] src/operator/subgraph/neuron/./neuron_util.h:541: Check failed: rsp.status().code() == 0: Failed load model with Neuron-RTD Error. Neuron-RTD Status Code: 9, details: \"\"\n",
    "\n",
    "```"
   ]
  }
 ],
 "metadata": {
  "kernelspec": {
   "display_name": "Environment (conda_aws_neuron_mxnet_p36)",
   "language": "python",
   "name": "conda_aws_neuron_mxnet_p36"
  },
  "language_info": {
   "codemirror_mode": {
    "name": "ipython",
    "version": 3
   },
   "file_extension": ".py",
   "mimetype": "text/x-python",
   "name": "python",
   "nbconvert_exporter": "python",
   "pygments_lexer": "ipython3",
   "version": "3.6.13"
  }
 },
 "nbformat": 4,
 "nbformat_minor": 4
}

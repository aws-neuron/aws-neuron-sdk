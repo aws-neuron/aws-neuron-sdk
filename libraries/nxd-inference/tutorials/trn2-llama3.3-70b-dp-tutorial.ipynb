{
 "cells": [
  {
   "cell_type": "markdown",
   "metadata": {},
   "source": [
    "# Tutorial: Scaling LLM Inference with Data Parallelism on Trn2\n",
    "\n",
    "This tutorial demonstrates how to implement data parallelism (DP) for LLM inference with multiple model copies on AWS Neuron. We'll walk through the steps to deploy multiple Llama 3.3 70B model endpoints on a single ```trn2.48xlarge``` instance using NxD Inference and vLLM, and run data parallel inference."
   ]
  },
  {
   "cell_type": "raw",
   "metadata": {
    "raw_mimetype": "text/restructuredtext",
    "vscode": {
     "languageId": "raw"
    }
   },
   "source": [
    ".. contents:: Table of contents\n",
    "    :local:\n",
    "    :depth: 2"
   ]
  },
  {
   "cell_type": "markdown",
   "metadata": {},
   "source": [
    "## Data Parallel Inference\n",
    "\n",
    "We can achieve Data Parallelism by using multiple copies of the same model hosted on the instance to process multiple requests simultaneously. Using NxD Inference and vLLM, you can deploy multiple model endpoints by adjusting the tensor parallel degree (Tensor Parallelism (TP) refers to sharding model weight matrices onto multiple NeuronCores within each model copy) and allocating appropriate NeuronCore ranges for each model endpoint. While increasing the batch size with a single copy of the model increases throughput, introducing data parallelism with multiple model endpoints combined with tensor parallelism allows further increase in instance throughput with some impact to latency. Use this technique when you can relax the latency constraint of your application to further maximize the throughput of the instance.\n",
    "\n",
    "In this tutorial we use Llama 3.3 70B with DP=2 and TP=32. However, you can follow the same sequence of steps to deploy additional model copies by appropriately changing the tensor parallel degree. You can also use this guide to deploy multiple copies of any other models on Trn1 or Inf2 instances as long as the model fits and the DP x TP degree does not exceed the number of model cores."
   ]
  },
  {
   "cell_type": "markdown",
   "metadata": {},
   "source": [
    "## Prerequisites\n",
    "\n",
    "### Setup and Connect to an Amazon EC2 Trn2 Instance"
   ]
  },
  {
   "cell_type": "raw",
   "metadata": {
    "raw_mimetype": "text/restructuredtext"
   },
   "source": [
    "An Amazon EC2 ``trn2.48xlarge`` instance with AWS Neuron SDK version 2.23.0 or later (:ref:`latest-neuron-release`) is required. "
   ]
  },
  {
   "cell_type": "markdown",
   "metadata": {},
   "source": [
    "To launch a Trn2 instance using Deep Learning AMI with pre-installed Neuron SDK and NxD Inference dependencies, see [NxD Inference Setup Guide](https://awsdocs-neuron.readthedocs-hosted.com/en/latest/frameworks/neuronx-distributed/setup-guide-nxd-inference.html).\n",
    "\n",
    "To use Jupyter Notebook on the Neuron instance, you can use this [guide](https://awsdocs-neuron.readthedocs-hosted.com/en/latest/general/setup/notebook/setup-jupyter-notebook-steps-troubleshooting.html).\n",
    "\n",
    "Make sure to activate the Neuron virtual environment"
   ]
  },
  {
   "cell_type": "markdown",
   "metadata": {
    "vscode": {
     "languageId": "raw"
    }
   },
   "source": [
    "```python\n",
    "source ~/aws_neuronx_venv_pytorch_2_5_nxd_inference/bin/activate\n",
    "```"
   ]
  },
  {
   "cell_type": "markdown",
   "metadata": {},
   "source": [
    "To verify that NxD Inference has installed successfully, check that you can run the inference_demo console script.\n"
   ]
  },
  {
   "cell_type": "markdown",
   "metadata": {
    "vscode": {
     "languageId": "raw"
    }
   },
   "source": [
    "```python\n",
    "inference_demo --help\n",
    "```"
   ]
  },
  {
   "cell_type": "markdown",
   "metadata": {},
   "source": [
    "### Download Model Weights\n",
    "\n",
    "To use this tutorial, you must first download a Llama 3.3 70B Instruct model checkpoint from Hugging Face to a local path on the Trn2 instance. For more information, see [Downloading Models](https://huggingface.co/docs/transformers/main/en/installation#offline-mode) in the Hugging Face documentation. You can download and use [meta-llama/Llama-3.3-70B-Instruct](https://huggingface.co/meta-llama/Llama-3.3-70B-Instruct) for this tutorial."
   ]
  },
  {
   "cell_type": "markdown",
   "metadata": {},
   "source": [
    "### Install Neuron vLLM Fork\n",
    "\n",
    "NxD Inference supports running models with vLLM. This functionality is available in the AWS Neuron fork of the vLLM GitHub repository. Install the latest release branch of vLLM from the AWS Neuron fork following instructions in the [vLLM User Guide for NxD Inference](https://github.com/aws-neuron/upstreaming-to-vllm)"
   ]
  },
  {
   "cell_type": "markdown",
   "metadata": {},
   "source": [
    "### Install LLMPerf\n",
    "\n",
    "In this tutorial, you will use [LLMPerf](https://github.com/ray-project/llmperf) to measure the performance.\n",
    "\n",
    "Install llmperf into the virtual environment.\n"
   ]
  },
  {
   "cell_type": "code",
   "execution_count": null,
   "metadata": {},
   "outputs": [],
   "source": [
    "%%bash\n",
    "git clone --branch v2.0 https://github.com/ray-project/llmperf.git\n",
    "cd llmperf\n",
    "pip install -e ."
   ]
  },
  {
   "cell_type": "markdown",
   "metadata": {},
   "source": [
    "Once you have installed LLMPerf, please apply relevant patches as described in [LLM Inference Benchmarking guide](https://awsdocs-neuron.readthedocs-hosted.com/en/latest/frameworks/neuronx-distributed/programming-guide/nxd-inference/nxdi-llm-inference-benchmarking.html). Ensure that you apply all the patches described there including the data parallelism support patch."
   ]
  },
  {
   "cell_type": "markdown",
   "metadata": {},
   "source": [
    "## Step-by-Step Tutorial Instructions\n",
    "\n",
    "### Step 1: Compile the model\n",
    "\n",
    "Before we launch the model endpoint with vLLM, we'll use the NxD Inference library to compile the model with an appropriate configuration. Refer to [NxD Inference Features Configuration Guide](https://awsdocs-neuron.readthedocs-hosted.com/en/latest/frameworks/neuronx-distributed/programming-guide/nxd-inference/nxdi-features-configuration.html) for more information. To compile a model for data parallelism inference, set the ```NUM_CORES```,```TP_DEGREE```, ```BATCH_SIZE``` to allow for strategic workflow distribution. For DP=2 with BATCH_SIZE>=1, TP_DEGREE should be set to 64/2=32 to maximize NeuronCore utilization across all model copies. Simply create and run a shell script as illustrated below:"
   ]
  },
  {
   "cell_type": "code",
   "execution_count": null,
   "metadata": {},
   "outputs": [],
   "source": [
    "%%bash\n",
    "# Replace with path to your downloaded Hugging Face model checkpoints\n",
    "MODEL_PATH=\"/ubuntu/model_hf/Llama-3.3-70B-Instruct/\"\n",
    "\n",
    "# This is where the compiled model will be saved. The same path should be used when launching vLLM server for inference.\n",
    "\n",
    "NUM_CORES=128\n",
    "TP_DEGREE=32\n",
    "LNC=2\n",
    "BATCH_SIZE=4\n",
    "\n",
    "export NEURON_RT_VIRTUAL_CORE_SIZE=$LNC\n",
    "export NEURON_RT_NUM_CORES=$((NUM_CORES/NEURON_RT_VIRTUAL_CORE_SIZE))\n",
    "export NEURON_RT_EXEC_TIMEOUT=600\n",
    "export XLA_DENSE_GATHER_FACTOR=0\n",
    "export NEURON_RT_INSPECT_ENABLE=0\n",
    "\n",
    "inference_demo \\\n",
    "    --model-type llama \\\n",
    "    --task-type causal-lm \\\n",
    "        run \\\n",
    "        --model-path $MODEL_PATH \\\n",
    "        --compiled-model-path $COMPILED_MODEL_PATH \\\n",
    "        --torch-dtype bfloat16 \\\n",
    "        --start_rank_id 0 \\\n",
    "        --local_ranks_size $TP_DEGREE \\\n",
    "        --tp-degree $TP_DEGREE \\\n",
    "        --batch-size $BATCH_SIZE \\\n",
    "        --max-context-length 8192 \\\n",
    "        --seq-len 8192 \\\n",
    "        --on-device-sampling \\\n",
    "        --top-k 1 \\\n",
    "        --do-sample \\\n",
    "        --fused-qkv \\\n",
    "        --sequence-parallel-enabled \\\n",
    "        --qkv-kernel-enabled \\\n",
    "        --attn-kernel-enabled \\\n",
    "        --mlp-kernel-enabled \\\n",
    "        --cc-pipeline-tiling-factor 1 \\\n",
    "        --pad-token-id 2 \\\n",
    "        --enable-bucketing \\\n",
    "        --context-encoding-buckets 2048 4096 8192 \\\n",
    "        --token-generation-buckets 2048 4096 8192 \\\n",
    "        --compile-only \\\n",
    "        --prompt \"What is annapurna labs?\" 2>&1 | tee log2"
   ]
  },
  {
   "cell_type": "markdown",
   "metadata": {},
   "source": [
    "It's important to specify the path to which the compiled model is saved, as this same path must be used when you later launch the vLLM server for inference, allowing you to use the pre-compiled model without having to compile it again."
   ]
  },
  {
   "cell_type": "raw",
   "metadata": {
    "raw_mimetype": "text/restructuredtext",
    "vscode": {
     "languageId": "raw"
    }
   },
   "source": [
    ".. note::\n",
    "    \n",
    "    To run this script on trn1, set LNC=1. For more information about LNC, see :ref:`logical-neuroncore-config` .\n",
    "    Also appropriately change NUM_CORES & TP_DEGREE (eg. 16 for DP=2)"
   ]
  },
  {
   "cell_type": "markdown",
   "metadata": {},
   "source": [
    "For detailed information about the inference_demo flags, you can consult the [NxD Inference API Reference](https://awsdocs-neuron.readthedocs-hosted.com/en/latest/frameworks/neuronx-distributed/api-reference-guide/nxd-inference/index.html)."
   ]
  },
  {
   "cell_type": "markdown",
   "metadata": {},
   "source": [
    "### Step 2: Launch model endpoints\n",
    "Create a deployment script (```deploy_vllm_endpoint.sh```) containing below code snippet that configures and launches a model endpoint. The script is parameterized so that you can pass a specific port number, range of neuron cores, tensor parallel degree and batch size.\n",
    "\n",
    "#### Key Parameters Explained:\n",
    "\n",
    "- ```MODEL_PATH```: The Hugging Face model identifier or local model_hf path containing Meta-Llama-3.3-70B-Instruct hugging face checkpoints. Eg. /home/ubuntu/model_hf/Llama-3.3-70B-Instruct/\n",
    "\n",
    "- ```port```: Network port for the endpoint Eg. 8000. The port number should be unique for each model endpoint.\n",
    "\n",
    "- ```cores```: Range of NeuronCores allocated to this endpoint. This should be a non overlapping range of cores when deploying multiple model endpoints on the same instance. For example, when allocated 32 NeuronCores to a model endpoint specify 0-31 or 32-63.\n",
    "\n",
    "- ```tp_degree```: Degree of tensor parallelism for model sharding. To maximize NeuronCores utilization, reduce tp_degree while increasing dp_degree.\n",
    "\n",
    "- ```bs``` : Batch size specified for model endpoint.\n",
    "\n",
    "These parameters should match the values used during compilation step above."
   ]
  },
  {
   "cell_type": "code",
   "execution_count": null,
   "metadata": {},
   "outputs": [],
   "source": [
    "%%writefile start_vllm.sh\n",
    "#!/bin/bash\n",
    "\n",
    "echo \"Running vLLM server in the background...\"\n",
    "\n",
    "# Default values for arguments\n",
    "DEFAULT_PORT=$PORT\n",
    "DEFAULT_CORES=$CORES\n",
    "DEFAULT_TP_DEGREE=32\n",
    "DEFAULT_BS=4\n",
    "\n",
    "# Help function\n",
    "show_help() {\n",
    "    echo \"Usage: $0 [options]\"\n",
    "    echo \"Options:\"\n",
    "    echo \"  -p port        Port number for vLLM endpoint (default: $DEFAULT_PORT)\"\n",
    "    echo \"  -c cores       Range of neuron cores (default: $DEFAULT_CORES)\"\n",
    "    echo \"  -t tp_degree   Tensor parallel degree (default: $DEFAULT_TP_DEGREE)\"\n",
    "    echo \"  -b bs          Batch size (default: $DEFAULT_BS)\"\n",
    "    echo \"  -h             Show this help message\"\n",
    "}\n",
    "\n",
    "# Parse single-letter arguments\n",
    "while getopts \"p:c:t:b:h\" opt; do\n",
    "    case $opt in\n",
    "        p) port=\"$OPTARG\" ;;\n",
    "        c) cores=\"$OPTARG\" ;;\n",
    "        t) tp_degree=\"$OPTARG\" ;;\n",
    "        b) bs=\"$OPTARG\" ;;\n",
    "        h) show_help; exit 0 ;;\n",
    "        ?) show_help; exit 1 ;;\n",
    "    esac\n",
    "done\n",
    "\n",
    "# Set defaults if not provided\n",
    "port=${port:-$DEFAULT_PORT}\n",
    "cores=${cores:-$DEFAULT_CORES}\n",
    "tp_degree=${tp_degree:-$DEFAULT_TP_DEGREE}\n",
    "bs=${bs:-$DEFAULT_BS}\n",
    "\n",
    "# Environment configurations\n",
    "export NEURON_RT_INSPECT_ENABLE=0\n",
    "export NEURON_RT_VIRTUAL_CORE_SIZE=2\n",
    "\n",
    "# These should be the same paths used when compiling the model.\n",
    "MODEL_PATH=\"/ubuntu/model_hf/Llama-3.3-70B-Instruct/\"\n",
    "COMPILED_MODEL_PATH=\"/ubuntu/traced_model/Llama-3.3-70B-Instruct/\"\n",
    "\n",
    "export VLLM_NEURON_FRAMEWORK=\"neuronx-distributed-inference\"\n",
    "export NEURON_COMPILED_ARTIFACTS=$COMPILED_MODEL_PATH\n",
    "export NEURON_RT_VISIBLE_CORES=${cores}\n",
    "\n",
    "VLLM_RPC_TIMEOUT=100000 \n",
    "nohup python -m vllm.entrypoints.openai.api_server \\\n",
    "    --model $MODEL_PATH \\\n",
    "    --max-num-seqs ${bs} \\\n",
    "    --max-model-len 8192 \\\n",
    "    --tensor-parallel-size ${tp_degree} \\\n",
    "    --device neuron \\\n",
    "    --use-v2-block-manager \\\n",
    "    --override-neuron-config \"{\\\"on_device_sampling_config\\\": {\\\"do_sample\\\": true, \\\"global_topk\\\": 64}}\" \\\n",
    "    --port ${port} > ./vllm_server.log 2>&1 &\n",
    "SERVER_PID=$!\n",
    "\n",
    "echo \"Server started in the background with the following id: $SERVER_PID. Waiting until server is ready to serve...\"\n",
    "\n",
    "until grep -q \"Server is ready to serve\" ./vllm_server.log 2>/dev/null || ! kill -0 $SERVER_PID 2>/dev/null; do sleep 0.5; done\n",
    "grep -q \"Server is ready to serve\" ./vllm_server.log 2>/dev/null && echo \"vLLM Server is ready!\" || (echo \"vLLM Server failed, check the ./vllm_server.log file\" && exit 1)"
   ]
  },
  {
   "cell_type": "code",
   "execution_count": null,
   "metadata": {},
   "outputs": [],
   "source": [
    "!chmod +x ./start_vllm.sh\n",
    "!./start_vllm.sh 8000 0-31 "
   ]
  },
  {
   "cell_type": "code",
   "execution_count": null,
   "metadata": {},
   "outputs": [],
   "source": [
    "!./start_vllm.sh 8001 32-63"
   ]
  },
  {
   "cell_type": "markdown",
   "metadata": {},
   "source": [
    "Run this script to launch 2 vLLM servers. You can run these commands as background processes in the same terminal or run two separate terminals for each command. We launch two servers, each with a tensor parallel degree of 32 and batch size of 4. Note that the first vLLM server uses neuron cores 0-31 and the second one 32-63. You can pick any ports that are available."
   ]
  },
  {
   "cell_type": "markdown",
   "metadata": {},
   "source": [
    "The server start up time can take a few minutes since the model weights are getting loaded. Once the vLLM servers have been launched, you should see the following log output. This implies that the model server has been deployed.\n",
    "\n",
    "```\n",
    "INFO:     Started server process [221607]\n",
    "INFO:     Waiting for application startup.\n",
    "INFO:     Application startup complete.\n",
    "INFO:     Uvicorn running on http://0.0.0.0:8000 (Press CTRL+C to quit)\n",
    "```"
   ]
  },
  {
   "cell_type": "markdown",
   "metadata": {},
   "source": [
    "### Step 3: Benchmark the deployed model endpoints\n",
    "After the above steps, the vLLM server should be running. You can now measure the performance using LLMPerf. Ensure you have made the required changes to use LLMPerf with DP>1 by following [Install LLMPerf](https://awsdocs-neuron.readthedocs-hosted.com/en/latest/libraries/nxd-inference/tutorials/trn2-llama3.3-70b-dp-tutorial.html#install-llmperf)\n",
    "\n",
    "Below is a sample shell script to run LLMPerf. The script allows the user to specify tensor parallelism degree, data parallelism degree, and batch size through command-line arguments, with default values provided. It calculates the concurrency based on batch size and data parallelism, sets up the environment for benchmarking with input tokens N(7936, 30) and output tokens N(256,30), and then runs LlmPerf’s ```token_benchmark_ray.py``` with various parameters to measure the model endpoints’ performance. The benchmark simulates requests with specific input and output token distributions, and collects results for analysis.\n",
    "\n",
    "More information about several arguments used in the script can be found in the [llmperf open source code](https://github.com/ray-project/llmperf/blob/main/token_benchmark_ray.py)"
   ]
  },
  {
   "cell_type": "code",
   "execution_count": null,
   "metadata": {},
   "outputs": [],
   "source": [
    "%%bash\n",
    "\n",
    "# Default values for arguments\n",
    "DEFAULT_TP_DEGREE=32\n",
    "DEFAULT_DP_DEGREE=2\n",
    "DEFAULT_BS=1\n",
    "\n",
    "# Help function\n",
    "show_help() {\n",
    "    echo \"Usage: $0 [options]\"\n",
    "    echo \"Options:\"\n",
    "    echo \"  -t tp_degree          Tensor parallel degree (default: $DEFAULT_TP_DEGREE)\"\n",
    "    echo \"  -d dp_degree          Data parallel degree (default: $DEFAULT_DP_DEGREE)\"\n",
    "    echo \"  -b bs          Batch size (default: $DEFAULT_BS)\"\n",
    "    echo \"  -h             Show this help message\"\n",
    "}\n",
    "\n",
    "# Parse single-letter arguments\n",
    "while getopts \"t:d:b:h\" opt; do\n",
    "    case $opt in\n",
    "        t) tp_degree=\"$OPTARG\" ;;\n",
    "        d) dp_degree=\"$OPTARG\" ;;\n",
    "        b) bs=\"$OPTARG\" ;;\n",
    "        h) show_help; exit 0 ;;\n",
    "        ?) show_help; exit 1 ;;\n",
    "    esac\n",
    "done\n",
    "\n",
    "# Set defaults if not provided\n",
    "tp_degree=${tp_degree:-$DEFAULT_TP_DEGREE}\n",
    "dp_degree=${dp_degree:-$DEFAULT_DP_DEGREE}\n",
    "bs=${bs:-$DEFAULT_BS}\n",
    "\n",
    "# Calculate total concurrent requests (batch_size * data_parallelism)\n",
    "# If result is less than 1, default to batch_size\n",
    "concurrency=$(awk -v batch=\"$bs\" -v dp_degree=\"$dp_degree\" 'BEGIN {\n",
    "    concurrency = int(batch * dp_degree)\n",
    "    print (concurrency >= 1 ? concurrency : batch)\n",
    "}')\n",
    "echo \"concurrency: $concurrency\"\n",
    "\n",
    "MODEL_PATH=\"/shared/ashdeok/llama33-70B/Llama-3.3-70B-Instruct\"\n",
    "export COMPILED_MODEL_PATH=\"/shared/ashdeok/llama33-70B/traced_model/Llama-3.3-70B-Instruct-DP/\"\n",
    "\n",
    "# Modify OpenAI's API key and API base to use vLLM's API server.\n",
    "export OPENAI_API_KEY=EMPTY\n",
    "\n",
    "#if you have more vLLM servers, append the required number of ports like so:\n",
    "#;http://localhost:8001/v1;http://localhost:8002/v1\"\n",
    "export OPENAI_API_BASE=\"http://0.0.0.0:8000/v1;http://0.0.0.0:8001/v1\"\n",
    "\n",
    "python /shared/ashdeok/PR_tutorials/llmperf/token_benchmark_ray.py \\\n",
    "--model ${MODEL_PATH} \\\n",
    "--mean-input-tokens 7936 \\\n",
    "--stddev-input-tokens 30 \\\n",
    "--mean-output-tokens 256 \\\n",
    "--stddev-output-tokens 30 \\\n",
    "--num-concurrent-requests ${concurrency} \\\n",
    "--results-dir \"/shared/ashdeok/results-DP/\" \\\n",
    "--timeout 21600 \\\n",
    "--max-num-completed-requests 1000 \\\n",
    "--additional-sampling-params '{\"temperature\": 0.7, \"top_k\": 50}' \\\n",
    "--llm-api \"openai\""
   ]
  },
  {
   "cell_type": "markdown",
   "metadata": {},
   "source": [
    "Once the script starts executing, you will see output like:\n",
    "\n",
    "```\n",
    "INFO worker.py:1852 -- Started a local Ray instance.\n",
    "  4%|▍         | 39/1000 [01:29<30:14,  1.89s/it]\n",
    "```\n",
    "\n",
    "Once benchmarking is complete, results can be found in the directory specified with the `--results-dir` flag in the ```benchmark_model.sh``` script."
   ]
  },
  {
   "cell_type": "markdown",
   "metadata": {},
   "source": [
    "## Conclusion\n",
    "\n",
    "This tutorial demonstrates how data parallelism using multiple model copies can help increase the throughput. While standard batching (DP=1, BS>1) processes multiple requests through a single model copy, data parallelism deploys multiple independent model copies that can process different requests simultaneously. Our experiments with batch sizes 1 & 4 show that as we decrease Tensor Parallelism (TP) from 64 to 16 and increase Data Parallelism (DP) from 1 to 4, we see up to 2x throughput improvement with non optimized configurations. However, this comes with an increase in Time To First Token (TTFT) latency. This illustrates a key consideration: while DP can improve overall system throughput by processing more concurrent requests, it can lead to higher latency\n",
    "\n",
    "When to choose Data parallel with multiple model copies over using single model copy in an instance:\n",
    "\n",
    "- Use DP when your workload is collective-bound rather than memory or compute-bound. At high batch sizes, TP64 / TP128 collectives can become slow due to the number of hops and increasing throughput requirements. At high enough batch size, it can be better to pay the cost of duplicated weight loads and use DP with multiple model copies in order to reduce collective latencies.\n",
    "\n",
    "- Consider DP when you need to handle many concurrent requests and can tolerate moderate latency increases.\n",
    "\n",
    "Implementation requires careful consideration of your total memory budget, as each additional model copy increases memory consumption. You'll need to balance the number of model copies against the resources allocated to each model copy based on your specific throughput and latency requirements. By understanding these trade-offs and following the implementation guidelines in this tutorial, users can select the most appropriate approach for their specific use case and optimize their inference setup accordingly."
   ]
  }
 ],
 "metadata": {
  "kernelspec": {
   "display_name": "neuron-224",
   "language": "python",
   "name": "python3"
  },
  "language_info": {
   "codemirror_mode": {
    "name": "ipython",
    "version": 3
   },
   "file_extension": ".py",
   "mimetype": "text/x-python",
   "name": "python",
   "nbconvert_exporter": "python",
   "pygments_lexer": "ipython3",
   "version": "3.10.12"
  }
 },
 "nbformat": 4,
 "nbformat_minor": 4
}
